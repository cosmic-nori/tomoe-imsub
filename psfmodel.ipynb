{
 "cells": [
  {
   "cell_type": "code",
   "execution_count": 1,
   "metadata": {},
   "outputs": [],
   "source": [
    "import numpy as np\n",
    "import matplotlib.pyplot as plt\n",
    "from PythonPhot import rdpsf"
   ]
  },
  {
   "cell_type": "code",
   "execution_count": 2,
   "metadata": {},
   "outputs": [
    {
     "data": {
      "text/plain": [
       "<matplotlib.image.AxesImage at 0x7fbfe5312350>"
      ]
     },
     "execution_count": 2,
     "metadata": {},
     "output_type": "execute_result"
    },
    {
     "data": {
      "image/png": "[encoded data removed]",
      "text/plain": [
       "<Figure size 640x480 with 1 Axes>"
      ]
     },
     "metadata": {},
     "output_type": "display_data"
    }
   ],
   "source": [
    "psf_path = '/home/arima/sTMQ1202203240073175631_psf.fits'\n",
    "data_psf, header_psf = rdpsf.rdpsf(psf_path)\n",
    "\n",
    "# Check PSF model image\n",
    "sigma_x = header_psf['GAUSS4']\n",
    "sigma_y = header_psf['GAUSS5']\n",
    "fwhm_x = 2.0 * sigma_x * np.sqrt(2.0 * np.log(2)) * 1.19 \n",
    "fwhm_y = 2.0 * sigma_y * np.sqrt(2.0 * np.log(2)) * 1.19\n",
    "fwhm = (fwhm_x+fwhm_y)/2.0\n",
    "\n",
    "mean_psf = np.mean(data_psf)\n",
    "std_psf = np.std(data_psf)\n",
    "plt.title('PSF model (FWHM = {:.1f} arcsec)'.format(fwhm))\n",
    "plt.imshow(data_psf, origin='lower')\n",
    "#plt.imshow(data_psf, vmin=mean_psf-3*std_psf, vmax=mean_psf+3*std_psf, origin='lower')"
   ]
  },
  {
   "cell_type": "code",
   "execution_count": 3,
   "metadata": {},
   "outputs": [],
   "source": [
    "# save as a csv file\n",
    "psf_savename = '/home/arima/sTMQ1202203240073175631_psf_model.csv'\n",
    "np.savetxt(psf_savename, data_psf)"
   ]
  },
  {
   "cell_type": "code",
   "execution_count": 4,
   "metadata": {},
   "outputs": [
    {
     "data": {
      "text/plain": [
       "array([[ 2977.58419678,  4089.43295926,  5221.38802263,  6444.63935262,\n",
       "         7407.99331248,  7890.16294135,  7571.20961908,  6615.34678976,\n",
       "         5352.32455085,  4025.56972147,  2982.4484508 ],\n",
       "       [ 3946.56117908,  5639.83699728,  7663.08967705,  9785.69092617,\n",
       "        11498.75461056, 12216.37886723, 11801.51020794, 10117.34697705,\n",
       "         7956.90741378,  5745.17671877,  4022.46447861],\n",
       "       [ 5183.26198349,  7587.26470922, 10715.8845313 , 13977.13111845,\n",
       "        16815.11228645, 17927.46844881, 17105.68914887, 14641.6960118 ,\n",
       "        11299.49292596,  7951.32471319,  5381.16209559],\n",
       "       [ 6403.06849397,  9644.20832086, 13953.85674566, 18628.93846808,\n",
       "        22892.17166793, 24810.21857797, 23528.98345147, 19846.65436753,\n",
       "        14892.56712097, 10331.2004383 ,  6830.82056   ],\n",
       "       [ 7225.01027747, 11207.19172857, 16377.9535577 , 22397.95595715,\n",
       "        27650.10893495, 30160.78313167, 28614.08338905, 23898.71178333,\n",
       "        17569.80038761, 11888.77514438,  7658.49732552],\n",
       "       [ 7578.54608284, 11718.34800386, 17116.00053171, 23581.5559191 ,\n",
       "        29462.72599809, 32178.16420291, 30500.29378592, 25069.02115247,\n",
       "        18586.44158876, 12534.70983134,  7962.7567415 ],\n",
       "       [ 7025.88143637, 10820.4324969 , 15805.99399434, 21553.95551914,\n",
       "        26748.44836854, 29256.22233182, 27793.4425701 , 22933.08315136,\n",
       "        16953.56776094, 11768.10381536,  7559.78711851],\n",
       "       [ 5995.08131225,  9030.54384567, 12951.38991115, 17410.92262735,\n",
       "        21174.25379858, 23202.87596349, 22092.16371413, 18410.86156742,\n",
       "        13968.94950527,  9695.46230175,  6309.54093333],\n",
       "       [ 4840.10285527,  7040.404735  ,  9736.32389116, 12748.45289345,\n",
       "        15381.99405938, 16491.67053099, 15760.32980768, 13398.22714747,\n",
       "        10371.32293192,  7436.20488708,  5115.44285728],\n",
       "       [ 3779.71588585,  5218.69873462,  6957.28729376,  8814.74742293,\n",
       "        10359.30055107, 10990.90645175, 10475.05716273,  9108.7968282 ,\n",
       "         7257.71417957,  5460.93241188,  3873.52510326],\n",
       "       [ 2851.98734166,  3788.3792623 ,  4830.45307885,  5971.86554458,\n",
       "         6819.8585088 ,  7166.95339109,  6884.77673899,  6091.97862377,\n",
       "         4939.68125946,  3809.18178015,  2811.65900408]])"
      ]
     },
     "execution_count": 4,
     "metadata": {},
     "output_type": "execute_result"
    }
   ],
   "source": [
    "load_arr = np.loadtxt(psf_savename)\n",
    "load_arr"
   ]
  },
  {
   "cell_type": "code",
   "execution_count": 5,
   "metadata": {},
   "outputs": [
    {
     "data": {
      "text/plain": [
       "(11, 11)"
      ]
     },
     "execution_count": 5,
     "metadata": {},
     "output_type": "execute_result"
    }
   ],
   "source": [
    "load_arr.shape"
   ]
  },
  {
   "cell_type": "code",
   "execution_count": 6,
   "metadata": {},
   "outputs": [
    {
     "data": {
      "text/plain": [
       "(11, 11)"
      ]
     },
     "execution_count": 6,
     "metadata": {},
     "output_type": "execute_result"
    }
   ],
   "source": [
    "load_arr.shape"
   ]
  },
  {
   "cell_type": "code",
   "execution_count": null,
   "metadata": {},
   "outputs": [],
   "source": []
  },
  {
   "cell_type": "code",
   "execution_count": null,
   "metadata": {},
   "outputs": [],
   "source": []
  }
 ],
 "metadata": {
  "kernelspec": {
   "display_name": "Python 3.7.15 64-bit ('astroconda': pyenv)",
   "language": "python",
   "name": "python3"
  },
  "language_info": {
   "codemirror_mode": {
    "name": "ipython",
    "version": 3
   },
   "file_extension": ".py",
   "mimetype": "text/x-python",
   "name": "python",
   "nbconvert_exporter": "python",
   "pygments_lexer": "ipython3",
   "version": "3.7.15 (default, Nov 24 2022, 21:12:53) \n[GCC 11.2.0]"
  },
  "orig_nbformat": 4,
  "vscode": {
   "interpreter": {
    "hash": "924ade18be0fe3cb9f6a526790a124c2b7be695bdf8af3d1eb51f470f8dd3007"
   }
  }
 },
 "nbformat": 4,
 "nbformat_minor": 2
}
